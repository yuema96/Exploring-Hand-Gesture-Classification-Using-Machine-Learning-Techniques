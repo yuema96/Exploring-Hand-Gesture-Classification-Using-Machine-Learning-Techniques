{
 "cells": [
  {
   "cell_type": "code",
   "execution_count": 1,
   "id": "e1c7ef9e",
   "metadata": {},
   "outputs": [],
   "source": [
    "import numpy as np\n",
    "import matplotlib.pyplot as plt\n",
    "import pandas as pd\n",
    "import os"
   ]
  },
  {
   "cell_type": "code",
   "execution_count": 2,
   "id": "5d228577",
   "metadata": {},
   "outputs": [],
   "source": [
    "from skimage.transform import resize\n",
    "from skimage.io import imread\n",
    "from sklearn.model_selection import train_test_split\n",
    "from sklearn.metrics import classification_report\n",
    "from sklearn.metrics import confusion_matrix"
   ]
  },
  {
   "cell_type": "markdown",
   "id": "417da5c4",
   "metadata": {},
   "source": [
    "# Data Preprocessing"
   ]
  },
  {
   "cell_type": "code",
   "execution_count": 3,
   "id": "d0bfdd83",
   "metadata": {},
   "outputs": [],
   "source": [
    "gestures=['hand0','hand1','hand5','hand8','hand13','AIgeneratedHands']\n",
    "images=[] \n",
    "label=[] \n",
    "directory='Half-HandGesture\\\\' \n",
    "\n",
    "for i in gestures:    \n",
    "    path=os.path.join(directory,i)\n",
    "    for img in os.listdir(path):\n",
    "        img_array=imread(os.path.join(path,img))\n",
    "        img_resized=resize(img_array,(150,150,3)) \n",
    "        images.append(img_resized.flatten())\n",
    "        label.append(gestures.index(i))\n",
    "        \n",
    "final_input=np.array(images)\n",
    "target=np.array(label)"
   ]
  },
  {
   "cell_type": "code",
   "execution_count": 4,
   "id": "cc03a980",
   "metadata": {},
   "outputs": [],
   "source": [
    "df=pd.DataFrame(final_input) \n",
    "df['Target']=target\n",
    "x=df.iloc[:,:-1] \n",
    "y=df.iloc[:,-1] "
   ]
  },
  {
   "cell_type": "code",
   "execution_count": 5,
   "id": "b07eec46",
   "metadata": {},
   "outputs": [],
   "source": [
    "from sklearn.decomposition import PCA\n",
    "pca = PCA(n_components=200)\n",
    "X_pca = pca.fit_transform(x)"
   ]
  },
  {
   "cell_type": "code",
   "execution_count": 6,
   "id": "70a81f66",
   "metadata": {},
   "outputs": [
    {
     "data": {
      "text/plain": [
       "(3000, 200)"
      ]
     },
     "execution_count": 6,
     "metadata": {},
     "output_type": "execute_result"
    }
   ],
   "source": [
    "X_pca.shape\n",
    "#2500 is the total number of images, 675000 is calculated by 150*150*3, here there are 67500 values\n",
    "#To reduce overfitting of the models, here I used PCA to reduce dimensions of the features"
   ]
  },
  {
   "cell_type": "code",
   "execution_count": 7,
   "id": "e3a6763f",
   "metadata": {},
   "outputs": [
    {
     "data": {
      "text/plain": [
       "(3000,)"
      ]
     },
     "execution_count": 7,
     "metadata": {},
     "output_type": "execute_result"
    }
   ],
   "source": [
    "y.shape"
   ]
  },
  {
   "cell_type": "code",
   "execution_count": 8,
   "id": "d0860f43",
   "metadata": {},
   "outputs": [],
   "source": [
    "x_train,x_test,y_train,y_test=train_test_split(X_pca,y,test_size=0.15,random_state=77,stratify=y)"
   ]
  },
  {
   "cell_type": "markdown",
   "id": "46b3a49f",
   "metadata": {},
   "source": [
    "# SGD"
   ]
  },
  {
   "cell_type": "code",
   "execution_count": 9,
   "id": "d15ee6fe",
   "metadata": {},
   "outputs": [],
   "source": [
    "from sklearn.linear_model import SGDClassifier\n",
    "from sklearn.metrics import accuracy_score"
   ]
  },
  {
   "cell_type": "code",
   "execution_count": 10,
   "id": "e409f4aa",
   "metadata": {},
   "outputs": [
    {
     "name": "stdout",
     "output_type": "stream",
     "text": [
      "Train Accuracy is 0.6129411764705882\n",
      "Test Accuracy is  0.5377777777777778\n"
     ]
    }
   ],
   "source": [
    "sgd= SGDClassifier(loss='log',shuffle=True,random_state=101)\n",
    "sgd.fit(x_train, y_train)\n",
    "y_pred_sgd = sgd.predict(x_test) \n",
    "y_train_score_sgd=sgd.predict(x_train)\n",
    "\n",
    "acc_train = accuracy_score(y_train, y_train_score_sgd, normalize=True, sample_weight=None)\n",
    "acc_test = accuracy_score(y_test, y_pred_sgd, normalize=True, sample_weight=None)\n",
    "\n",
    "print('Train Accuracy is',acc_train)\n",
    "print(\"Test Accuracy is \", acc_test)"
   ]
  },
  {
   "cell_type": "code",
   "execution_count": 11,
   "id": "b5d34a68",
   "metadata": {},
   "outputs": [
    {
     "name": "stdout",
     "output_type": "stream",
     "text": [
      "Classification Report : \n",
      "               precision    recall  f1-score   support\n",
      "\n",
      "           0       0.45      0.41      0.43        75\n",
      "           1       0.47      0.36      0.41        75\n",
      "           2       0.48      0.39      0.43        75\n",
      "           3       0.50      0.41      0.45        75\n",
      "           4       0.40      0.67      0.50        75\n",
      "           5       0.99      0.99      0.99        75\n",
      "\n",
      "    accuracy                           0.54       450\n",
      "   macro avg       0.55      0.54      0.53       450\n",
      "weighted avg       0.55      0.54      0.53       450\n",
      "\n"
     ]
    }
   ],
   "source": [
    "print(\"Classification Report : \\n\",classification_report(y_test, y_pred_sgd))"
   ]
  },
  {
   "cell_type": "code",
   "execution_count": 12,
   "id": "fc0c4c77",
   "metadata": {},
   "outputs": [],
   "source": [
    "from sklearn.metrics import confusion_matrix"
   ]
  },
  {
   "cell_type": "code",
   "execution_count": 13,
   "id": "9e852826",
   "metadata": {},
   "outputs": [],
   "source": [
    "cm = confusion_matrix(y_test, y_pred_sgd)"
   ]
  },
  {
   "cell_type": "code",
   "execution_count": 14,
   "id": "69affc73",
   "metadata": {},
   "outputs": [
    {
     "data": {
      "text/plain": [
       "array([[31, 12, 10,  9, 12,  1],\n",
       "       [15, 27, 10, 11, 12,  0],\n",
       "       [ 6,  6, 29,  7, 27,  0],\n",
       "       [11,  4,  6, 31, 23,  0],\n",
       "       [ 6,  9,  6,  4, 50,  0],\n",
       "       [ 0,  0,  0,  0,  1, 74]], dtype=int64)"
      ]
     },
     "execution_count": 14,
     "metadata": {},
     "output_type": "execute_result"
    }
   ],
   "source": [
    "cm"
   ]
  },
  {
   "cell_type": "markdown",
   "id": "50a035bd",
   "metadata": {},
   "source": [
    "# SVM"
   ]
  },
  {
   "cell_type": "code",
   "execution_count": 15,
   "id": "a0ac547d",
   "metadata": {},
   "outputs": [],
   "source": [
    "from sklearn.svm import SVC"
   ]
  },
  {
   "cell_type": "code",
   "execution_count": 16,
   "id": "abb4e397",
   "metadata": {},
   "outputs": [
    {
     "name": "stdout",
     "output_type": "stream",
     "text": [
      "Test Accuracy is  0.22444444444444445\n",
      "Train Accuracy is 0.20705882352941177\n"
     ]
    }
   ],
   "source": [
    "svm = SVC(kernel=\"sigmoid\",gamma=0.5,probability=True)\n",
    "svm.fit(x_train, y_train)\n",
    "y_pred = svm.predict(x_test)\n",
    "\n",
    "y_train_score=svm.predict(x_train)\n",
    "acc_train = accuracy_score(y_train, y_train_score)\n",
    "print(\"Test Accuracy is \",accuracy_score(y_test, y_pred))\n",
    "print('Train Accuracy is',acc_train)"
   ]
  },
  {
   "cell_type": "code",
   "execution_count": 17,
   "id": "6e4763dc",
   "metadata": {},
   "outputs": [
    {
     "name": "stdout",
     "output_type": "stream",
     "text": [
      "Test Accuracy is  0.1688888888888889\n",
      "Train Accuracy is 1.0\n"
     ]
    }
   ],
   "source": [
    "svm = SVC(kernel=\"rbf\",gamma=0.5,probability=True) \n",
    "svm.fit(x_train, y_train)\n",
    "y_pred = svm.predict(x_test)\n",
    "\n",
    "y_train_score=svm.predict(x_train)\n",
    "acc_train = accuracy_score(y_train, y_train_score)\n",
    "print(\"Test Accuracy is \",accuracy_score(y_test, y_pred))\n",
    "print('Train Accuracy is',acc_train)"
   ]
  },
  {
   "cell_type": "code",
   "execution_count": 18,
   "id": "f4a681ec",
   "metadata": {},
   "outputs": [
    {
     "name": "stdout",
     "output_type": "stream",
     "text": [
      "Test Accuracy is  0.6666666666666666\n",
      "Train Accuracy is 1.0\n"
     ]
    }
   ],
   "source": [
    "svm = SVC(kernel=\"poly\",gamma=0.5,probability=True) \n",
    "svm.fit(x_train, y_train)\n",
    "y_pred = svm.predict(x_test)\n",
    "\n",
    "y_train_score=svm.predict(x_train)\n",
    "acc_train = accuracy_score(y_train, y_train_score)\n",
    "print(\"Test Accuracy is \",accuracy_score(y_test, y_pred))\n",
    "print('Train Accuracy is',acc_train)"
   ]
  },
  {
   "cell_type": "code",
   "execution_count": 19,
   "id": "11a84adb",
   "metadata": {},
   "outputs": [
    {
     "name": "stdout",
     "output_type": "stream",
     "text": [
      "Classification Report : \n",
      "               precision    recall  f1-score   support\n",
      "\n",
      "           0       0.51      0.64      0.57        75\n",
      "           1       0.62      0.61      0.62        75\n",
      "           2       0.73      0.61      0.67        75\n",
      "           3       0.59      0.48      0.53        75\n",
      "           4       0.59      0.65      0.62        75\n",
      "           5       1.00      1.00      1.00        75\n",
      "\n",
      "    accuracy                           0.67       450\n",
      "   macro avg       0.67      0.67      0.67       450\n",
      "weighted avg       0.67      0.67      0.67       450\n",
      "\n"
     ]
    }
   ],
   "source": [
    "print(\"Classification Report : \\n\",classification_report(y_test, y_pred))"
   ]
  },
  {
   "cell_type": "code",
   "execution_count": 20,
   "id": "a7853849",
   "metadata": {},
   "outputs": [
    {
     "data": {
      "text/plain": [
       "array([[48,  6,  3, 11,  7,  0],\n",
       "       [10, 46,  4,  6,  9,  0],\n",
       "       [ 8,  6, 46,  4, 11,  0],\n",
       "       [20,  8,  4, 36,  7,  0],\n",
       "       [ 8,  8,  6,  4, 49,  0],\n",
       "       [ 0,  0,  0,  0,  0, 75]], dtype=int64)"
      ]
     },
     "execution_count": 20,
     "metadata": {},
     "output_type": "execute_result"
    }
   ],
   "source": [
    "cm = confusion_matrix(y_test, y_pred)\n",
    "cm"
   ]
  },
  {
   "cell_type": "markdown",
   "id": "f7512831",
   "metadata": {},
   "source": [
    "# Ramdom Forest"
   ]
  },
  {
   "cell_type": "code",
   "execution_count": 21,
   "id": "551f2d59",
   "metadata": {},
   "outputs": [
    {
     "name": "stdout",
     "output_type": "stream",
     "text": [
      "Test Accuracy is  0.6733333333333333\n",
      "Train Accuracy is 1.0\n"
     ]
    }
   ],
   "source": [
    "from sklearn.ensemble import RandomForestClassifier\n",
    "\n",
    "forest = RandomForestClassifier(n_estimators=100, random_state=42)\n",
    "forest.fit(x_train, y_train)\n",
    "y_pred = forest.predict(x_test)\n",
    "\n",
    "y_train_score=forest.predict(x_train)\n",
    "acc_train = accuracy_score(y_train, y_train_score)\n",
    "\n",
    "test_acc = accuracy_score(y_test, y_pred)\n",
    "print(\"Test Accuracy is \",accuracy_score(y_test, y_pred))\n",
    "print('Train Accuracy is',acc_train)"
   ]
  },
  {
   "cell_type": "code",
   "execution_count": 22,
   "id": "83b0f6d0",
   "metadata": {},
   "outputs": [
    {
     "name": "stdout",
     "output_type": "stream",
     "text": [
      "Classification Report : \n",
      "               precision    recall  f1-score   support\n",
      "\n",
      "           0       0.63      0.65      0.64        75\n",
      "           1       0.59      0.60      0.60        75\n",
      "           2       0.61      0.60      0.60        75\n",
      "           3       0.61      0.59      0.60        75\n",
      "           4       0.61      0.60      0.60        75\n",
      "           5       0.99      1.00      0.99        75\n",
      "\n",
      "    accuracy                           0.67       450\n",
      "   macro avg       0.67      0.67      0.67       450\n",
      "weighted avg       0.67      0.67      0.67       450\n",
      "\n"
     ]
    }
   ],
   "source": [
    "print(\"Classification Report : \\n\",classification_report(y_test, y_pred))"
   ]
  },
  {
   "cell_type": "code",
   "execution_count": 23,
   "id": "4bb74cbb",
   "metadata": {},
   "outputs": [
    {
     "data": {
      "text/plain": [
       "array([[49,  8,  4,  9,  5,  0],\n",
       "       [11, 45,  8,  7,  4,  0],\n",
       "       [ 2,  6, 45,  8, 13,  1],\n",
       "       [10,  6,  8, 44,  7,  0],\n",
       "       [ 6, 11,  9,  4, 45,  0],\n",
       "       [ 0,  0,  0,  0,  0, 75]], dtype=int64)"
      ]
     },
     "execution_count": 23,
     "metadata": {},
     "output_type": "execute_result"
    }
   ],
   "source": [
    "cm = confusion_matrix(y_test, y_pred)\n",
    "cm"
   ]
  },
  {
   "cell_type": "markdown",
   "id": "c284a041",
   "metadata": {},
   "source": [
    "# KNN"
   ]
  },
  {
   "cell_type": "code",
   "execution_count": 24,
   "id": "ed44634e",
   "metadata": {},
   "outputs": [
    {
     "name": "stdout",
     "output_type": "stream",
     "text": [
      "Test Accuracy is  0.6577777777777778\n",
      "Train Accuracy is 0.7968627450980392\n"
     ]
    }
   ],
   "source": [
    "from sklearn.neighbors import KNeighborsClassifier\n",
    "\n",
    "knn = KNeighborsClassifier(n_neighbors=6)\n",
    "knn.fit(x_train, y_train)\n",
    "\n",
    "y_pred = knn.predict(x_test)\n",
    "test_acc = accuracy_score(y_test, y_pred)\n",
    "\n",
    "y_train_score=knn.predict(x_train)\n",
    "acc_train = accuracy_score(y_train, y_train_score)\n",
    "\n",
    "print(\"Test Accuracy is \",accuracy_score(y_test, y_pred))\n",
    "print('Train Accuracy is',acc_train)"
   ]
  },
  {
   "cell_type": "code",
   "execution_count": 25,
   "id": "3f419834",
   "metadata": {},
   "outputs": [
    {
     "name": "stdout",
     "output_type": "stream",
     "text": [
      "Classification Report : \n",
      "               precision    recall  f1-score   support\n",
      "\n",
      "           0       0.60      0.73      0.66        75\n",
      "           1       0.48      0.68      0.56        75\n",
      "           2       0.66      0.55      0.60        75\n",
      "           3       0.72      0.41      0.53        75\n",
      "           4       0.61      0.57      0.59        75\n",
      "           5       1.00      1.00      1.00        75\n",
      "\n",
      "    accuracy                           0.66       450\n",
      "   macro avg       0.68      0.66      0.66       450\n",
      "weighted avg       0.68      0.66      0.66       450\n",
      "\n"
     ]
    }
   ],
   "source": [
    "print(\"Classification Report : \\n\",classification_report(y_test, y_pred))"
   ]
  },
  {
   "cell_type": "code",
   "execution_count": 26,
   "id": "04c0662e",
   "metadata": {},
   "outputs": [
    {
     "data": {
      "text/plain": [
       "array([[55, 13,  3,  2,  2,  0],\n",
       "       [14, 51,  2,  3,  5,  0],\n",
       "       [ 5, 11, 41,  2, 16,  0],\n",
       "       [12, 24,  3, 31,  5,  0],\n",
       "       [ 6,  8, 13,  5, 43,  0],\n",
       "       [ 0,  0,  0,  0,  0, 75]], dtype=int64)"
      ]
     },
     "execution_count": 26,
     "metadata": {},
     "output_type": "execute_result"
    }
   ],
   "source": [
    "cm = confusion_matrix(y_test, y_pred)\n",
    "cm"
   ]
  },
  {
   "cell_type": "markdown",
   "id": "88fd2db0",
   "metadata": {},
   "source": [
    "# Decision Tree"
   ]
  },
  {
   "cell_type": "code",
   "execution_count": 10,
   "id": "e32801c2",
   "metadata": {},
   "outputs": [],
   "source": [
    "from sklearn.tree import DecisionTreeClassifier"
   ]
  },
  {
   "cell_type": "code",
   "execution_count": 28,
   "id": "0602b86f",
   "metadata": {},
   "outputs": [
    {
     "data": {
      "text/plain": [
       "DecisionTreeClassifier(max_depth=10, random_state=1)"
      ]
     },
     "execution_count": 28,
     "metadata": {},
     "output_type": "execute_result"
    }
   ],
   "source": [
    "tree = DecisionTreeClassifier(criterion='gini',                               \n",
    "                                max_depth=10, \n",
    "                              random_state=1)\n",
    "tree.fit(x_train, y_train)"
   ]
  },
  {
   "cell_type": "code",
   "execution_count": 29,
   "id": "daa08f8d",
   "metadata": {},
   "outputs": [
    {
     "name": "stdout",
     "output_type": "stream",
     "text": [
      "Test Accuracy is  0.4822222222222222\n",
      "Train Accuracy is 0.7082352941176471\n"
     ]
    }
   ],
   "source": [
    "y_pred = tree.predict(x_test)\n",
    "test_acc = accuracy_score(y_test, y_pred)\n",
    "\n",
    "y_train_score=tree.predict(x_train)\n",
    "acc_train = accuracy_score(y_train, y_train_score)\n",
    "\n",
    "print(\"Test Accuracy is \",test_acc)\n",
    "print('Train Accuracy is',acc_train)"
   ]
  },
  {
   "cell_type": "code",
   "execution_count": 30,
   "id": "44604aa9",
   "metadata": {},
   "outputs": [
    {
     "name": "stdout",
     "output_type": "stream",
     "text": [
      "Classification Report : \n",
      "               precision    recall  f1-score   support\n",
      "\n",
      "           0       0.43      0.36      0.39        75\n",
      "           1       0.40      0.45      0.42        75\n",
      "           2       0.44      0.21      0.29        75\n",
      "           3       0.32      0.57      0.41        75\n",
      "           4       0.40      0.29      0.34        75\n",
      "           5       1.00      1.00      1.00        75\n",
      "\n",
      "    accuracy                           0.48       450\n",
      "   macro avg       0.50      0.48      0.47       450\n",
      "weighted avg       0.50      0.48      0.47       450\n",
      "\n"
     ]
    }
   ],
   "source": [
    "print(\"Classification Report : \\n\",classification_report(y_test, y_pred))"
   ]
  },
  {
   "cell_type": "code",
   "execution_count": 31,
   "id": "71604e54",
   "metadata": {},
   "outputs": [
    {
     "data": {
      "text/plain": [
       "array([[27, 11,  5, 23,  9,  0],\n",
       "       [14, 34,  6, 17,  4,  0],\n",
       "       [ 7, 13, 16, 24, 15,  0],\n",
       "       [ 6, 16,  5, 43,  5,  0],\n",
       "       [ 9, 12,  4, 28, 22,  0],\n",
       "       [ 0,  0,  0,  0,  0, 75]], dtype=int64)"
      ]
     },
     "execution_count": 31,
     "metadata": {},
     "output_type": "execute_result"
    }
   ],
   "source": [
    "cm = confusion_matrix(y_test, y_pred)\n",
    "cm"
   ]
  },
  {
   "cell_type": "markdown",
   "id": "d6d8bbc4",
   "metadata": {},
   "source": [
    "# Ensemble-bagging"
   ]
  },
  {
   "cell_type": "code",
   "execution_count": 11,
   "id": "bcf0efd9",
   "metadata": {},
   "outputs": [],
   "source": [
    "from sklearn.ensemble import BaggingClassifier"
   ]
  },
  {
   "cell_type": "code",
   "execution_count": 12,
   "id": "8c97a2af",
   "metadata": {},
   "outputs": [
    {
     "name": "stdout",
     "output_type": "stream",
     "text": [
      "Test Accuracy is  0.6777777777777778\n",
      "Train Accuracy is 1.0\n"
     ]
    }
   ],
   "source": [
    "tree = DecisionTreeClassifier(criterion='entropy', \n",
    "                              max_depth=None,\n",
    "                              random_state=1)\n",
    "\n",
    "bag = BaggingClassifier(base_estimator=tree,\n",
    "                        n_estimators=100, \n",
    "                        max_samples=1.0, \n",
    "                        max_features=1.0, \n",
    "                        bootstrap=True, \n",
    "                        bootstrap_features=False, \n",
    "                        n_jobs=1, \n",
    "                        random_state=1)\n",
    "bag = bag.fit(x_train, y_train)\n",
    "y_train_pred = bag.predict(x_train)\n",
    "y_test_pred = bag.predict(x_test)\n",
    "\n",
    "test_acc = accuracy_score(y_test, y_test_pred) \n",
    "train_acc= accuracy_score(y_train, y_train_pred) \n",
    "\n",
    "print(\"Test Accuracy is \",test_acc)\n",
    "print('Train Accuracy is',train_acc)"
   ]
  },
  {
   "cell_type": "code",
   "execution_count": 13,
   "id": "8995a235",
   "metadata": {},
   "outputs": [
    {
     "name": "stdout",
     "output_type": "stream",
     "text": [
      "Classification Report : \n",
      "               precision    recall  f1-score   support\n",
      "\n",
      "           0       0.64      0.57      0.61        75\n",
      "           1       0.60      0.60      0.60        75\n",
      "           2       0.60      0.63      0.61        75\n",
      "           3       0.64      0.64      0.64        75\n",
      "           4       0.59      0.63      0.61        75\n",
      "           5       1.00      1.00      1.00        75\n",
      "\n",
      "    accuracy                           0.68       450\n",
      "   macro avg       0.68      0.68      0.68       450\n",
      "weighted avg       0.68      0.68      0.68       450\n",
      "\n"
     ]
    }
   ],
   "source": [
    "print(\"Classification Report : \\n\",classification_report(y_test, y_test_pred))"
   ]
  },
  {
   "cell_type": "code",
   "execution_count": 14,
   "id": "ca8863c2",
   "metadata": {},
   "outputs": [
    {
     "data": {
      "text/plain": [
       "array([[43, 13,  9,  5,  5,  0],\n",
       "       [10, 45,  7,  6,  7,  0],\n",
       "       [ 4,  3, 47,  8, 13,  0],\n",
       "       [ 6,  6,  7, 48,  8,  0],\n",
       "       [ 4,  8,  8,  8, 47,  0],\n",
       "       [ 0,  0,  0,  0,  0, 75]], dtype=int64)"
      ]
     },
     "execution_count": 14,
     "metadata": {},
     "output_type": "execute_result"
    }
   ],
   "source": [
    "cm = confusion_matrix(y_test, y_test_pred)\n",
    "cm"
   ]
  },
  {
   "cell_type": "markdown",
   "id": "d45e4578",
   "metadata": {},
   "source": [
    "# Boosting- AdaBoost"
   ]
  },
  {
   "cell_type": "code",
   "execution_count": 15,
   "id": "977b98eb",
   "metadata": {},
   "outputs": [],
   "source": [
    "from sklearn.ensemble import AdaBoostClassifier"
   ]
  },
  {
   "cell_type": "code",
   "execution_count": 16,
   "id": "939a0bf0",
   "metadata": {},
   "outputs": [
    {
     "name": "stdout",
     "output_type": "stream",
     "text": [
      "Test Accuracy is  0.5022222222222222\n",
      "Train Accuracy is 1.0\n"
     ]
    }
   ],
   "source": [
    "adb = AdaBoostClassifier(n_estimators=100, base_estimator=tree,learning_rate=1)\n",
    "adb.fit(x_train, y_train)\n",
    "y_test_pred = adb.predict(x_test)\n",
    "\n",
    "y_train_pred = adb.predict(x_train)\n",
    "\n",
    "test_acc = accuracy_score(y_test, y_test_pred) \n",
    "train_acc= accuracy_score(y_train, y_train_pred) \n",
    "\n",
    "print(\"Test Accuracy is \",test_acc)\n",
    "print('Train Accuracy is',train_acc)"
   ]
  },
  {
   "cell_type": "code",
   "execution_count": 17,
   "id": "2e0133e9",
   "metadata": {},
   "outputs": [
    {
     "name": "stdout",
     "output_type": "stream",
     "text": [
      "Classification Report : \n",
      "               precision    recall  f1-score   support\n",
      "\n",
      "           0       0.36      0.35      0.35        75\n",
      "           1       0.38      0.33      0.35        75\n",
      "           2       0.48      0.40      0.43        75\n",
      "           3       0.39      0.45      0.42        75\n",
      "           4       0.42      0.48      0.45        75\n",
      "           5       1.00      1.00      1.00        75\n",
      "\n",
      "    accuracy                           0.50       450\n",
      "   macro avg       0.50      0.50      0.50       450\n",
      "weighted avg       0.50      0.50      0.50       450\n",
      "\n"
     ]
    }
   ],
   "source": [
    "print(\"Classification Report : \\n\",classification_report(y_test, y_test_pred))"
   ]
  },
  {
   "cell_type": "code",
   "execution_count": 18,
   "id": "2dbfd27d",
   "metadata": {},
   "outputs": [
    {
     "data": {
      "text/plain": [
       "array([[26, 17,  9, 15,  8,  0],\n",
       "       [19, 25,  7, 13, 11,  0],\n",
       "       [11,  6, 30, 11, 17,  0],\n",
       "       [12,  9,  7, 34, 13,  0],\n",
       "       [ 5,  9, 10, 15, 36,  0],\n",
       "       [ 0,  0,  0,  0,  0, 75]], dtype=int64)"
      ]
     },
     "execution_count": 18,
     "metadata": {},
     "output_type": "execute_result"
    }
   ],
   "source": [
    "cm = confusion_matrix(y_test, y_test_pred)\n",
    "cm"
   ]
  },
  {
   "cell_type": "markdown",
   "id": "67b0dacf",
   "metadata": {},
   "source": [
    "# Gradient Boosting"
   ]
  },
  {
   "cell_type": "code",
   "execution_count": 19,
   "id": "ca10ede9",
   "metadata": {},
   "outputs": [],
   "source": [
    "from sklearn.ensemble import GradientBoostingClassifier"
   ]
  },
  {
   "cell_type": "code",
   "execution_count": 20,
   "id": "4735153b",
   "metadata": {},
   "outputs": [
    {
     "name": "stdout",
     "output_type": "stream",
     "text": [
      "Test Accuracy is  0.7066666666666667\n",
      "Train Accuracy is 0.9874509803921568\n"
     ]
    }
   ],
   "source": [
    "gbc = GradientBoostingClassifier()\n",
    "\n",
    "gbc.fit(x_train, y_train)\n",
    "y_test_pred = gbc.predict(x_test)\n",
    "\n",
    "y_train_pred = gbc.predict(x_train)\n",
    "\n",
    "test_acc = accuracy_score(y_test, y_test_pred) \n",
    "train_acc= accuracy_score(y_train, y_train_pred) \n",
    "\n",
    "print(\"Test Accuracy is \",test_acc)\n",
    "print('Train Accuracy is',train_acc)"
   ]
  },
  {
   "cell_type": "code",
   "execution_count": 21,
   "id": "03ad8291",
   "metadata": {},
   "outputs": [
    {
     "name": "stdout",
     "output_type": "stream",
     "text": [
      "Classification Report : \n",
      "               precision    recall  f1-score   support\n",
      "\n",
      "           0       0.65      0.53      0.58        75\n",
      "           1       0.63      0.71      0.67        75\n",
      "           2       0.69      0.65      0.67        75\n",
      "           3       0.68      0.68      0.68        75\n",
      "           4       0.60      0.67      0.63        75\n",
      "           5       1.00      1.00      1.00        75\n",
      "\n",
      "    accuracy                           0.71       450\n",
      "   macro avg       0.71      0.71      0.71       450\n",
      "weighted avg       0.71      0.71      0.71       450\n",
      "\n"
     ]
    }
   ],
   "source": [
    "print(\"Classification Report : \\n\",classification_report(y_test, y_test_pred))"
   ]
  },
  {
   "cell_type": "code",
   "execution_count": 22,
   "id": "7e362722",
   "metadata": {},
   "outputs": [
    {
     "data": {
      "text/plain": [
       "array([[40, 13,  5,  9,  8,  0],\n",
       "       [ 4, 53,  5,  6,  7,  0],\n",
       "       [ 3,  3, 49,  5, 15,  0],\n",
       "       [ 5,  6, 10, 51,  3,  0],\n",
       "       [10,  9,  2,  4, 50,  0],\n",
       "       [ 0,  0,  0,  0,  0, 75]], dtype=int64)"
      ]
     },
     "execution_count": 22,
     "metadata": {},
     "output_type": "execute_result"
    }
   ],
   "source": [
    "cm = confusion_matrix(y_test, y_test_pred)\n",
    "cm"
   ]
  }
 ],
 "metadata": {
  "kernelspec": {
   "display_name": "Python 3 (ipykernel)",
   "language": "python",
   "name": "python3"
  },
  "language_info": {
   "codemirror_mode": {
    "name": "ipython",
    "version": 3
   },
   "file_extension": ".py",
   "mimetype": "text/x-python",
   "name": "python",
   "nbconvert_exporter": "python",
   "pygments_lexer": "ipython3",
   "version": "3.7.4"
  }
 },
 "nbformat": 4,
 "nbformat_minor": 5
}
