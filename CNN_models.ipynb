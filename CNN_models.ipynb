{
  "nbformat": 4,
  "nbformat_minor": 0,
  "metadata": {
    "colab": {
      "provenance": [],
      "gpuType": "T4"
    },
    "kernelspec": {
      "name": "python3",
      "display_name": "Python 3"
    },
    "language_info": {
      "name": "python"
    },
    "accelerator": "GPU",
    "gpuClass": "standard"
  },
  "cells": [
    {
      "cell_type": "code",
      "execution_count": null,
      "metadata": {
        "id": "85cRerTMjog_"
      },
      "outputs": [],
      "source": [
        "import matplotlib.pyplot as plt\n",
        "import tensorflow as tf\n",
        "import numpy as np\n",
        "import cv2\n",
        "import os"
      ]
    },
    {
      "cell_type": "markdown",
      "source": [
        "#Data Preprocessing"
      ],
      "metadata": {
        "id": "i7MSLv5QmOfA"
      }
    },
    {
      "cell_type": "code",
      "source": [
        "from tensorflow.keras.preprocessing.image import ImageDataGenerator\n",
        "train=ImageDataGenerator(rescale=1/255)\n",
        "validation=ImageDataGenerator(rescale=1/255)\n",
        "test=ImageDataGenerator(rescale=1/255)"
      ],
      "metadata": {
        "id": "DVCziJoVkyw4"
      },
      "execution_count": null,
      "outputs": []
    },
    {
      "cell_type": "code",
      "source": [
        "train_set=train.flow_from_directory('/content/drive/My Drive/Half-HandGesture/D_cnn/train/',\n",
        "                                        target_size=(224,224),\n",
        "                                        class_mode='sparse')\n",
        "val_set=validation.flow_from_directory('/content/drive/My Drive/Half-HandGesture/D_cnn/val/',\n",
        "                                        target_size=(224,224),\n",
        "                                        class_mode='sparse')\n",
        "\n",
        "test_set=test.flow_from_directory('/content/drive/My Drive/Half-HandGesture/D_cnn/test/',\n",
        "                                        target_size=(224,224),\n",
        "                                        class_mode='sparse',\n",
        "                                        shuffle=False)"
      ],
      "metadata": {
        "id": "QVB4a5colQpl",
        "colab": {
          "base_uri": "https://localhost:8080/"
        },
        "outputId": "c5871f67-f59b-44e4-b57b-d6d4282bb56f"
      },
      "execution_count": null,
      "outputs": [
        {
          "output_type": "stream",
          "name": "stdout",
          "text": [
            "Found 1750 images belonging to 5 classes.\n",
            "Found 375 images belonging to 5 classes.\n",
            "Found 375 images belonging to 5 classes.\n"
          ]
        }
      ]
    },
    {
      "cell_type": "code",
      "source": [
        "train_set.class_indices"
      ],
      "metadata": {
        "colab": {
          "base_uri": "https://localhost:8080/"
        },
        "id": "RHuxxK8Onoj8",
        "outputId": "f3cb354d-a301-47a2-809d-2cfc26f186d5"
      },
      "execution_count": null,
      "outputs": [
        {
          "output_type": "execute_result",
          "data": {
            "text/plain": [
              "{'hand0': 0, 'hand1': 1, 'hand13': 2, 'hand5': 3, 'hand8': 4}"
            ]
          },
          "metadata": {},
          "execution_count": 4
        }
      ]
    },
    {
      "cell_type": "code",
      "source": [
        "val_set.class_indices"
      ],
      "metadata": {
        "colab": {
          "base_uri": "https://localhost:8080/"
        },
        "id": "t32k203NnHT_",
        "outputId": "6a602773-4c5e-4878-e5fd-f04243fa5d02"
      },
      "execution_count": null,
      "outputs": [
        {
          "output_type": "execute_result",
          "data": {
            "text/plain": [
              "{'hand0': 0, 'hand1': 1, 'hand13': 2, 'hand5': 3, 'hand8': 4}"
            ]
          },
          "metadata": {},
          "execution_count": 5
        }
      ]
    },
    {
      "cell_type": "code",
      "source": [
        "train_set.classes"
      ],
      "metadata": {
        "colab": {
          "base_uri": "https://localhost:8080/"
        },
        "id": "p8G_ScOhog1i",
        "outputId": "b083287e-9faa-482c-d0c7-a775b14bbc07"
      },
      "execution_count": null,
      "outputs": [
        {
          "output_type": "execute_result",
          "data": {
            "text/plain": [
              "array([0, 0, 0, ..., 4, 4, 4], dtype=int32)"
            ]
          },
          "metadata": {},
          "execution_count": 6
        }
      ]
    },
    {
      "cell_type": "code",
      "source": [
        "x_batch, y_batch = next(test_set)"
      ],
      "metadata": {
        "id": "fBwToDPOzUAK"
      },
      "execution_count": null,
      "outputs": []
    },
    {
      "cell_type": "code",
      "source": [
        "len(y_batch)"
      ],
      "metadata": {
        "colab": {
          "base_uri": "https://localhost:8080/"
        },
        "id": "B_5y1hBdzi5b",
        "outputId": "81e234d3-fcf7-46c9-a204-8f37be87171d"
      },
      "execution_count": null,
      "outputs": [
        {
          "output_type": "execute_result",
          "data": {
            "text/plain": [
              "32"
            ]
          },
          "metadata": {},
          "execution_count": 8
        }
      ]
    },
    {
      "cell_type": "markdown",
      "source": [
        "#Transfer learning- Xception"
      ],
      "metadata": {
        "id": "DW3lOv6ImGyf"
      }
    },
    {
      "cell_type": "code",
      "source": [
        "base_model = tf.keras.applications.xception.Xception(weights=\"imagenet\", include_top=False) \n",
        "avg = tf.keras.layers.GlobalAveragePooling2D()(base_model.output)\n",
        "output = tf.keras.layers.Dense(5, activation=\"softmax\")(avg)\n",
        "model = tf.keras.Model(inputs=base_model.input, outputs=output)"
      ],
      "metadata": {
        "id": "MGHxBy-V71F_",
        "colab": {
          "base_uri": "https://localhost:8080/"
        },
        "outputId": "96713db8-f281-4158-a5f2-d40d2ba5c411"
      },
      "execution_count": null,
      "outputs": [
        {
          "output_type": "stream",
          "name": "stdout",
          "text": [
            "Downloading data from https://storage.googleapis.com/tensorflow/keras-applications/xception/xception_weights_tf_dim_ordering_tf_kernels_notop.h5\n",
            "83683744/83683744 [==============================] - 1s 0us/step\n"
          ]
        }
      ]
    },
    {
      "cell_type": "code",
      "source": [
        "for layer in base_model.layers: \n",
        "    layer.trainable = False"
      ],
      "metadata": {
        "id": "jJZcbFgv8Aci"
      },
      "execution_count": null,
      "outputs": []
    },
    {
      "cell_type": "code",
      "source": [
        "optimizer = tf.keras.optimizers.SGD(learning_rate=0.1, momentum=0.9)\n",
        "model.compile(loss=\"sparse_categorical_crossentropy\", optimizer=optimizer,\n",
        "              metrics=[\"accuracy\"])\n",
        "history = model.fit(train_set, validation_data=val_set, epochs=3)"
      ],
      "metadata": {
        "colab": {
          "base_uri": "https://localhost:8080/"
        },
        "id": "jubFtfUh8B-s",
        "outputId": "c7f1382a-54fc-4654-b671-63f2a08b1fbd"
      },
      "execution_count": null,
      "outputs": [
        {
          "output_type": "stream",
          "name": "stdout",
          "text": [
            "Epoch 1/3\n",
            "55/55 [==============================] - 398s 7s/step - loss: 0.5882 - accuracy: 0.7869 - val_loss: 0.1778 - val_accuracy: 0.9280\n",
            "Epoch 2/3\n",
            "55/55 [==============================] - 10s 172ms/step - loss: 0.1376 - accuracy: 0.9509 - val_loss: 0.1370 - val_accuracy: 0.9467\n",
            "Epoch 3/3\n",
            "55/55 [==============================] - 10s 174ms/step - loss: 0.0909 - accuracy: 0.9686 - val_loss: 0.1588 - val_accuracy: 0.9440\n"
          ]
        }
      ]
    },
    {
      "cell_type": "code",
      "source": [
        "for layer in base_model.layers[56:]:\n",
        "    layer.trainable = True\n",
        "\n",
        "optimizer = tf.keras.optimizers.SGD(learning_rate=0.01, momentum=0.9)\n",
        "model.compile(loss=\"sparse_categorical_crossentropy\", optimizer=optimizer,\n",
        "              metrics=[\"accuracy\"])\n",
        "#metrics=[\"accuracy\",tf.keras.metrics.Precision(),tf.keras.metrics.Recall()]\n",
        "history = model.fit(train_set, validation_data=val_set, epochs=5)"
      ],
      "metadata": {
        "colab": {
          "base_uri": "https://localhost:8080/"
        },
        "id": "kRDFfZcm8ZWI",
        "outputId": "4c842f82-799a-4da4-c5c4-d421974f8327"
      },
      "execution_count": null,
      "outputs": [
        {
          "output_type": "stream",
          "name": "stdout",
          "text": [
            "Epoch 1/5\n",
            "55/55 [==============================] - 30s 333ms/step - loss: 0.1100 - accuracy: 0.9583 - val_loss: 0.0246 - val_accuracy: 0.9947\n",
            "Epoch 2/5\n",
            "55/55 [==============================] - 17s 306ms/step - loss: 0.0061 - accuracy: 0.9966 - val_loss: 0.0022 - val_accuracy: 1.0000\n",
            "Epoch 3/5\n",
            "55/55 [==============================] - 18s 331ms/step - loss: 0.0070 - accuracy: 0.9971 - val_loss: 0.0244 - val_accuracy: 0.9947\n",
            "Epoch 4/5\n",
            "55/55 [==============================] - 18s 325ms/step - loss: 0.0046 - accuracy: 0.9989 - val_loss: 0.0111 - val_accuracy: 0.9947\n",
            "Epoch 5/5\n",
            "55/55 [==============================] - 18s 317ms/step - loss: 0.0093 - accuracy: 0.9977 - val_loss: 0.0143 - val_accuracy: 0.9947\n"
          ]
        }
      ]
    },
    {
      "cell_type": "code",
      "source": [
        "results= model.evaluate(test_set)"
      ],
      "metadata": {
        "colab": {
          "base_uri": "https://localhost:8080/"
        },
        "id": "DxLZ2E9I9p00",
        "outputId": "0b044f98-a5fb-4bee-feb0-439ca71469a0"
      },
      "execution_count": null,
      "outputs": [
        {
          "output_type": "stream",
          "name": "stdout",
          "text": [
            "12/12 [==============================] - 72s 7s/step - loss: 0.0108 - accuracy: 0.9947\n"
          ]
        }
      ]
    },
    {
      "cell_type": "code",
      "source": [
        "print(model.metrics_names)\n",
        "print(results)"
      ],
      "metadata": {
        "colab": {
          "base_uri": "https://localhost:8080/"
        },
        "id": "g4zBzVtMe6pl",
        "outputId": "79c21ee9-e451-4d5b-d13a-9225b67c4566"
      },
      "execution_count": null,
      "outputs": [
        {
          "output_type": "stream",
          "name": "stdout",
          "text": [
            "['loss', 'accuracy']\n",
            "[0.010783180594444275, 0.9946666955947876]\n"
          ]
        }
      ]
    },
    {
      "cell_type": "code",
      "source": [
        "from sklearn.metrics import classification_report, confusion_matrix"
      ],
      "metadata": {
        "id": "V0hoyQ5sXF3b"
      },
      "execution_count": null,
      "outputs": []
    },
    {
      "cell_type": "code",
      "source": [
        "y_pred = model.predict(test_set)"
      ],
      "metadata": {
        "colab": {
          "base_uri": "https://localhost:8080/"
        },
        "id": "zBGNEIvggFlm",
        "outputId": "2c8e611e-6935-49aa-d58c-06653809eb93"
      },
      "execution_count": null,
      "outputs": [
        {
          "output_type": "stream",
          "name": "stdout",
          "text": [
            "12/12 [==============================] - 2s 132ms/step\n"
          ]
        }
      ]
    },
    {
      "cell_type": "code",
      "source": [
        "y_pred_classes = np.argmax(y_pred, axis=1)\n",
        "y_true_classes = test_set.classes"
      ],
      "metadata": {
        "id": "TRBlCw5DgPFV"
      },
      "execution_count": null,
      "outputs": []
    },
    {
      "cell_type": "code",
      "source": [
        "y_pred_classes"
      ],
      "metadata": {
        "colab": {
          "base_uri": "https://localhost:8080/"
        },
        "id": "bZsGPUfCA450",
        "outputId": "712bbc48-5f47-468a-e930-6463639bb622"
      },
      "execution_count": null,
      "outputs": [
        {
          "output_type": "execute_result",
          "data": {
            "text/plain": [
              "array([0, 0, 0, 0, 0, 0, 0, 0, 0, 0, 0, 0, 0, 0, 0, 0, 0, 0, 0, 0, 0, 0,\n",
              "       0, 0, 0, 0, 0, 0, 0, 0, 0, 0, 0, 0, 0, 0, 0, 0, 0, 0, 0, 0, 0, 0,\n",
              "       0, 0, 0, 0, 0, 0, 0, 0, 0, 0, 0, 0, 0, 0, 0, 0, 0, 0, 0, 0, 0, 0,\n",
              "       0, 0, 0, 0, 0, 0, 0, 0, 0, 1, 1, 1, 1, 1, 1, 1, 1, 1, 1, 1, 1, 1,\n",
              "       1, 1, 1, 1, 1, 1, 1, 1, 1, 1, 1, 1, 1, 1, 1, 1, 1, 1, 1, 1, 1, 1,\n",
              "       1, 1, 1, 1, 1, 1, 1, 1, 1, 1, 1, 1, 1, 1, 1, 1, 1, 1, 1, 1, 1, 1,\n",
              "       1, 1, 1, 1, 1, 1, 1, 1, 1, 1, 1, 1, 1, 1, 1, 1, 1, 1, 2, 2, 3, 2,\n",
              "       2, 2, 2, 2, 2, 2, 2, 2, 2, 2, 2, 2, 2, 2, 2, 2, 2, 2, 2, 2, 2, 2,\n",
              "       2, 2, 2, 2, 2, 2, 2, 2, 2, 2, 2, 2, 2, 2, 2, 2, 2, 2, 2, 2, 2, 2,\n",
              "       2, 2, 2, 2, 2, 3, 2, 2, 2, 2, 2, 2, 2, 2, 2, 2, 2, 2, 2, 2, 2, 2,\n",
              "       2, 2, 2, 2, 2, 3, 3, 3, 3, 3, 3, 3, 3, 3, 3, 3, 3, 3, 3, 3, 3, 3,\n",
              "       3, 3, 3, 3, 3, 3, 3, 3, 3, 3, 3, 3, 3, 3, 3, 3, 3, 3, 3, 3, 3, 3,\n",
              "       3, 3, 3, 3, 3, 3, 3, 3, 3, 3, 3, 3, 3, 3, 3, 3, 3, 3, 3, 3, 3, 3,\n",
              "       3, 3, 3, 3, 3, 3, 3, 3, 3, 3, 3, 3, 3, 3, 4, 4, 4, 4, 4, 4, 4, 4,\n",
              "       4, 4, 4, 4, 4, 4, 4, 4, 4, 4, 4, 4, 4, 4, 4, 4, 4, 4, 4, 4, 4, 4,\n",
              "       4, 4, 4, 4, 4, 4, 4, 4, 4, 4, 4, 4, 4, 4, 4, 4, 4, 4, 4, 4, 4, 4,\n",
              "       4, 4, 4, 4, 4, 4, 4, 4, 4, 4, 4, 4, 4, 4, 4, 4, 4, 4, 4, 4, 4, 4,\n",
              "       4])"
            ]
          },
          "metadata": {},
          "execution_count": 18
        }
      ]
    },
    {
      "cell_type": "code",
      "source": [
        "class_labels = list(test_set.class_indices.keys())"
      ],
      "metadata": {
        "id": "XpbXOtS9gVeE"
      },
      "execution_count": null,
      "outputs": []
    },
    {
      "cell_type": "code",
      "source": [
        "cm = confusion_matrix(y_true_classes, y_pred_classes)"
      ],
      "metadata": {
        "id": "V9cyMbRIgX2Q"
      },
      "execution_count": null,
      "outputs": []
    },
    {
      "cell_type": "code",
      "source": [
        "cm"
      ],
      "metadata": {
        "colab": {
          "base_uri": "https://localhost:8080/"
        },
        "id": "kFA_4vfNgdXV",
        "outputId": "01afac8e-d905-4ac4-a730-6e704f8d355c"
      },
      "execution_count": null,
      "outputs": [
        {
          "output_type": "execute_result",
          "data": {
            "text/plain": [
              "array([[75,  0,  0,  0,  0],\n",
              "       [ 0, 75,  0,  0,  0],\n",
              "       [ 0,  0, 73,  2,  0],\n",
              "       [ 0,  0,  0, 75,  0],\n",
              "       [ 0,  0,  0,  0, 75]])"
            ]
          },
          "metadata": {},
          "execution_count": 21
        }
      ]
    },
    {
      "cell_type": "code",
      "source": [
        "print('Classification Report')\n",
        "report=classification_report(y_true_classes, y_pred_classes, target_names=class_labels)\n",
        "print(report)"
      ],
      "metadata": {
        "colab": {
          "base_uri": "https://localhost:8080/"
        },
        "id": "faxHY4vHYlgF",
        "outputId": "3e9a1558-d6a4-49b7-89a0-d7e3d544f212"
      },
      "execution_count": null,
      "outputs": [
        {
          "output_type": "stream",
          "name": "stdout",
          "text": [
            "Classification Report\n",
            "              precision    recall  f1-score   support\n",
            "\n",
            "       hand0       1.00      1.00      1.00        75\n",
            "       hand1       1.00      1.00      1.00        75\n",
            "      hand13       1.00      0.97      0.99        75\n",
            "       hand5       0.97      1.00      0.99        75\n",
            "       hand8       1.00      1.00      1.00        75\n",
            "\n",
            "    accuracy                           0.99       375\n",
            "   macro avg       0.99      0.99      0.99       375\n",
            "weighted avg       0.99      0.99      0.99       375\n",
            "\n"
          ]
        }
      ]
    },
    {
      "cell_type": "code",
      "source": [
        "plt.plot(history.history['loss'], label='train loss')\n",
        "plt.plot(history.history['val_loss'], label='val loss')\n",
        "plt.title('Xception Loss Evolution')\n",
        "plt.legend()\n",
        "plt.show()"
      ],
      "metadata": {
        "colab": {
          "base_uri": "https://localhost:8080/",
          "height": 452
        },
        "id": "3klV1oKKm1LN",
        "outputId": "c342a22e-ea70-4a9f-d3d4-f75953f22a8e"
      },
      "execution_count": null,
      "outputs": [
        {
          "output_type": "display_data",
          "data": {
            "text/plain": [
              "<Figure size 640x480 with 1 Axes>"
            ],
            "image/png": "[encoded data removed]"
          },
          "metadata": {}
        }
      ]
    },
    {
      "cell_type": "code",
      "source": [
        "plt.plot(history.history['accuracy'], label='train acc')\n",
        "plt.plot(history.history['val_accuracy'], label='val acc')\n",
        "plt.title('Xception Accuracy Evolution')\n",
        "plt.legend()\n",
        "plt.show()"
      ],
      "metadata": {
        "colab": {
          "base_uri": "https://localhost:8080/",
          "height": 452
        },
        "id": "sTF6hq9om2T9",
        "outputId": "14e75da7-73ed-4ce0-815e-d56ae8d62592"
      },
      "execution_count": null,
      "outputs": [
        {
          "output_type": "display_data",
          "data": {
            "text/plain": [
              "<Figure size 640x480 with 1 Axes>"
            ],
            "image/png": "[encoded data removed]"
          },
          "metadata": {}
        }
      ]
    },
    {
      "cell_type": "markdown",
      "source": [
        "#Transfer Learning- VGG16"
      ],
      "metadata": {
        "id": "KTeX1oxjJ2oG"
      }
    },
    {
      "cell_type": "code",
      "source": [
        "base_model = tf.keras.applications.VGG16(weights=\"imagenet\", include_top=False) \n",
        "avg = tf.keras.layers.GlobalAveragePooling2D()(base_model.output)\n",
        "output = tf.keras.layers.Dense(5, activation=\"softmax\")(avg)\n",
        "model = tf.keras.Model(inputs=base_model.input, outputs=output)"
      ],
      "metadata": {
        "colab": {
          "base_uri": "https://localhost:8080/"
        },
        "id": "hwGJ3Df5Jxjg",
        "outputId": "fb0c332a-fd5b-4123-de78-3b2b0560851d"
      },
      "execution_count": null,
      "outputs": [
        {
          "output_type": "stream",
          "name": "stdout",
          "text": [
            "Downloading data from https://storage.googleapis.com/tensorflow/keras-applications/vgg16/vgg16_weights_tf_dim_ordering_tf_kernels_notop.h5\n",
            "58889256/58889256 [==============================] - 0s 0us/step\n"
          ]
        }
      ]
    },
    {
      "cell_type": "code",
      "source": [
        "for layer in base_model.layers: \n",
        "    layer.trainable = False"
      ],
      "metadata": {
        "id": "egU6CDaEKGJ4"
      },
      "execution_count": null,
      "outputs": []
    },
    {
      "cell_type": "code",
      "source": [
        "optimizer = tf.keras.optimizers.SGD(learning_rate=0.1, momentum=0.9)\n",
        "model.compile(loss=\"sparse_categorical_crossentropy\", optimizer=optimizer,\n",
        "              metrics=[\"accuracy\"])\n",
        "history = model.fit(train_set, validation_data=val_set, epochs=3)"
      ],
      "metadata": {
        "colab": {
          "base_uri": "https://localhost:8080/"
        },
        "id": "WYb6esBxKIF2",
        "outputId": "da1efa57-32c0-4041-e2c8-d86fbd603bf9"
      },
      "execution_count": null,
      "outputs": [
        {
          "output_type": "stream",
          "name": "stdout",
          "text": [
            "Epoch 1/3\n",
            "55/55 [==============================] - 26s 391ms/step - loss: 3.2320 - accuracy: 0.3206 - val_loss: 2.2804 - val_accuracy: 0.3920\n",
            "Epoch 2/3\n",
            "55/55 [==============================] - 10s 174ms/step - loss: 1.6664 - accuracy: 0.6337 - val_loss: 0.8275 - val_accuracy: 0.7067\n",
            "Epoch 3/3\n",
            "55/55 [==============================] - 10s 172ms/step - loss: 0.5295 - accuracy: 0.7949 - val_loss: 0.3625 - val_accuracy: 0.8560\n"
          ]
        }
      ]
    },
    {
      "cell_type": "code",
      "source": [
        "for layer in base_model.layers[56:]:\n",
        "    layer.trainable = True\n",
        "\n",
        "optimizer = tf.keras.optimizers.SGD(learning_rate=0.01, momentum=0.9)\n",
        "model.compile(loss=\"sparse_categorical_crossentropy\", optimizer=optimizer,\n",
        "              metrics=[\"accuracy\"])\n",
        "#metrics=[\"accuracy\",tf.keras.metrics.Precision(),tf.keras.metrics.Recall()]\n",
        "history = model.fit(train_set, validation_data=val_set, epochs=5)"
      ],
      "metadata": {
        "colab": {
          "base_uri": "https://localhost:8080/"
        },
        "id": "Nkq__QVXKV-S",
        "outputId": "2a30f8f1-8f6a-4587-9b09-2c7eb69cb5fc"
      },
      "execution_count": null,
      "outputs": [
        {
          "output_type": "stream",
          "name": "stdout",
          "text": [
            "Epoch 1/5\n",
            "55/55 [==============================] - 12s 197ms/step - loss: 0.2297 - accuracy: 0.9434 - val_loss: 0.2385 - val_accuracy: 0.9307\n",
            "Epoch 2/5\n",
            "55/55 [==============================] - 9s 165ms/step - loss: 0.2147 - accuracy: 0.9503 - val_loss: 0.2316 - val_accuracy: 0.9413\n",
            "Epoch 3/5\n",
            "55/55 [==============================] - 10s 176ms/step - loss: 0.2102 - accuracy: 0.9566 - val_loss: 0.2263 - val_accuracy: 0.9493\n",
            "Epoch 4/5\n",
            "55/55 [==============================] - 10s 175ms/step - loss: 0.2065 - accuracy: 0.9537 - val_loss: 0.2416 - val_accuracy: 0.9253\n",
            "Epoch 5/5\n",
            "55/55 [==============================] - 11s 192ms/step - loss: 0.2083 - accuracy: 0.9531 - val_loss: 0.2405 - val_accuracy: 0.9280\n"
          ]
        }
      ]
    },
    {
      "cell_type": "code",
      "source": [
        "results= model.evaluate(test_set)"
      ],
      "metadata": {
        "colab": {
          "base_uri": "https://localhost:8080/"
        },
        "id": "xxXYE0Z4KbvO",
        "outputId": "c9394aca-624f-4a36-a38f-289fbc3161c1"
      },
      "execution_count": null,
      "outputs": [
        {
          "output_type": "stream",
          "name": "stdout",
          "text": [
            "12/12 [==============================] - 2s 141ms/step - loss: 0.2219 - accuracy: 0.9440\n"
          ]
        }
      ]
    },
    {
      "cell_type": "code",
      "source": [
        "print(model.metrics_names)\n",
        "print(results)"
      ],
      "metadata": {
        "colab": {
          "base_uri": "https://localhost:8080/"
        },
        "id": "LObUhdbPKeOt",
        "outputId": "57df1b0d-8c9e-4bd0-e1f2-5569a1fd91fe"
      },
      "execution_count": null,
      "outputs": [
        {
          "output_type": "stream",
          "name": "stdout",
          "text": [
            "['loss', 'accuracy']\n",
            "[0.2218954861164093, 0.9440000057220459]\n"
          ]
        }
      ]
    },
    {
      "cell_type": "code",
      "source": [
        "y_pred = model.predict(test_set)"
      ],
      "metadata": {
        "colab": {
          "base_uri": "https://localhost:8080/"
        },
        "id": "uvtXvH9yKmtQ",
        "outputId": "120158ad-a40e-4eeb-b27d-46db6b473d7c"
      },
      "execution_count": null,
      "outputs": [
        {
          "output_type": "stream",
          "name": "stdout",
          "text": [
            "12/12 [==============================] - 2s 186ms/step\n"
          ]
        }
      ]
    },
    {
      "cell_type": "code",
      "source": [
        "y_pred_classes = np.argmax(y_pred, axis=1)\n",
        "y_true_classes = test_set.classes"
      ],
      "metadata": {
        "id": "geLACgvPKnfk"
      },
      "execution_count": null,
      "outputs": []
    },
    {
      "cell_type": "code",
      "source": [
        "class_labels = list(test_set.class_indices.keys())"
      ],
      "metadata": {
        "id": "q73fkmJWKql-"
      },
      "execution_count": null,
      "outputs": []
    },
    {
      "cell_type": "code",
      "source": [
        "cm = confusion_matrix(y_true_classes, y_pred_classes)"
      ],
      "metadata": {
        "id": "RczsZFr8Ks0M"
      },
      "execution_count": null,
      "outputs": []
    },
    {
      "cell_type": "code",
      "source": [
        "cm"
      ],
      "metadata": {
        "colab": {
          "base_uri": "https://localhost:8080/"
        },
        "id": "WMp7j1T0KuYL",
        "outputId": "eb30d3b7-7a5f-409e-943a-a8a84502585d"
      },
      "execution_count": null,
      "outputs": [
        {
          "output_type": "execute_result",
          "data": {
            "text/plain": [
              "array([[71,  2,  1,  0,  1],\n",
              "       [ 5, 59,  0,  0, 11],\n",
              "       [ 0,  0, 74,  0,  1],\n",
              "       [ 0,  0,  0, 75,  0],\n",
              "       [ 0,  0,  0,  0, 75]])"
            ]
          },
          "metadata": {},
          "execution_count": 35
        }
      ]
    },
    {
      "cell_type": "code",
      "source": [
        "print('Classification Report')\n",
        "report=classification_report(y_true_classes, y_pred_classes, target_names=class_labels)\n",
        "print(report)"
      ],
      "metadata": {
        "colab": {
          "base_uri": "https://localhost:8080/"
        },
        "id": "2hVNgpwmKxNk",
        "outputId": "cab5ab26-1b1c-46c9-b6e1-db966e62f7f5"
      },
      "execution_count": null,
      "outputs": [
        {
          "output_type": "stream",
          "name": "stdout",
          "text": [
            "Classification Report\n",
            "              precision    recall  f1-score   support\n",
            "\n",
            "       hand0       0.93      0.95      0.94        75\n",
            "       hand1       0.97      0.79      0.87        75\n",
            "      hand13       0.99      0.99      0.99        75\n",
            "       hand5       1.00      1.00      1.00        75\n",
            "       hand8       0.85      1.00      0.92        75\n",
            "\n",
            "    accuracy                           0.94       375\n",
            "   macro avg       0.95      0.94      0.94       375\n",
            "weighted avg       0.95      0.94      0.94       375\n",
            "\n"
          ]
        }
      ]
    },
    {
      "cell_type": "code",
      "source": [
        "plt.plot(history.history['loss'], label='train loss')\n",
        "plt.plot(history.history['val_loss'], label='val loss')\n",
        "plt.title(\"VGG16 Loss Evolution\")\n",
        "plt.legend()\n",
        "plt.show()"
      ],
      "metadata": {
        "colab": {
          "base_uri": "https://localhost:8080/",
          "height": 452
        },
        "id": "IKMFNx7XK0KH",
        "outputId": "6de26830-2527-4168-c4f4-6cc52e119526"
      },
      "execution_count": null,
      "outputs": [
        {
          "output_type": "display_data",
          "data": {
            "text/plain": [
              "<Figure size 640x480 with 1 Axes>"
            ],
            "image/png": "[encoded data removed]"
          },
          "metadata": {}
        }
      ]
    },
    {
      "cell_type": "code",
      "source": [
        "plt.plot(history.history['accuracy'], label='train acc')\n",
        "plt.plot(history.history['val_accuracy'], label='val acc')\n",
        "plt.title(\"VGG16 Accuracy Evolution\")\n",
        "plt.legend()\n",
        "plt.show()"
      ],
      "metadata": {
        "colab": {
          "base_uri": "https://localhost:8080/",
          "height": 452
        },
        "id": "pd-8NvrXK2Mc",
        "outputId": "996455ea-8a54-40c3-c9a4-f240592ee93b"
      },
      "execution_count": null,
      "outputs": [
        {
          "output_type": "display_data",
          "data": {
            "text/plain": [
              "<Figure size 640x480 with 1 Axes>"
            ],
            "image/png": "[encoded data removed]"
          },
          "metadata": {}
        }
      ]
    },
    {
      "cell_type": "markdown",
      "source": [
        "# Customized CNN "
      ],
      "metadata": {
        "id": "icwAp7mvly7T"
      }
    },
    {
      "cell_type": "code",
      "source": [
        "from tensorflow import keras\n",
        "from tensorflow.keras import layers"
      ],
      "metadata": {
        "id": "fX9xACvHkLrn"
      },
      "execution_count": null,
      "outputs": []
    },
    {
      "cell_type": "code",
      "source": [
        "model = keras.Sequential([\n",
        "    layers.Conv2D(32, (3, 3), activation='relu', input_shape=(224, 224, 3),padding='same'),\n",
        "    layers.MaxPooling2D(),\n",
        "    layers.Conv2D(64, (3, 3), activation='relu'),\n",
        "    layers.Conv2D(64, (3, 3), activation='relu'),\n",
        "    layers.MaxPooling2D(),\n",
        "    layers.Conv2D(128, (3, 3), activation='relu'),\n",
        "    layers.MaxPooling2D(),\n",
        "    layers.Flatten(),\n",
        "    layers.Dense(128, activation='relu'),\n",
        "    layers.Dropout(0.5),\n",
        "    layers.Dense(5, activation='softmax')\n",
        "])\n",
        "\n",
        "model.compile(optimizer='adam',\n",
        "              loss='sparse_categorical_crossentropy',\n",
        "              metrics=['accuracy'])"
      ],
      "metadata": {
        "id": "c_Q4iFQ7jlbs"
      },
      "execution_count": null,
      "outputs": []
    },
    {
      "cell_type": "code",
      "source": [
        "model.summary()"
      ],
      "metadata": {
        "colab": {
          "base_uri": "https://localhost:8080/"
        },
        "id": "SBdletCwkNcz",
        "outputId": "e0b7d38f-4846-493f-e5b7-94a9e742184c"
      },
      "execution_count": null,
      "outputs": [
        {
          "output_type": "stream",
          "name": "stdout",
          "text": [
            "Model: \"sequential\"\n",
            "_________________________________________________________________\n",
            " Layer (type)                Output Shape              Param #   \n",
            "=================================================================\n",
            " conv2d_4 (Conv2D)           (None, 224, 224, 32)      896       \n",
            "                                                                 \n",
            " max_pooling2d (MaxPooling2D  (None, 112, 112, 32)     0         \n",
            " )                                                               \n",
            "                                                                 \n",
            " conv2d_5 (Conv2D)           (None, 110, 110, 64)      18496     \n",
            "                                                                 \n",
            " conv2d_6 (Conv2D)           (None, 108, 108, 64)      36928     \n",
            "                                                                 \n",
            " max_pooling2d_1 (MaxPooling  (None, 54, 54, 64)       0         \n",
            " 2D)                                                             \n",
            "                                                                 \n",
            " conv2d_7 (Conv2D)           (None, 52, 52, 128)       73856     \n",
            "                                                                 \n",
            " max_pooling2d_2 (MaxPooling  (None, 26, 26, 128)      0         \n",
            " 2D)                                                             \n",
            "                                                                 \n",
            " flatten (Flatten)           (None, 86528)             0         \n",
            "                                                                 \n",
            " dense_2 (Dense)             (None, 128)               11075712  \n",
            "                                                                 \n",
            " dropout (Dropout)           (None, 128)               0         \n",
            "                                                                 \n",
            " dense_3 (Dense)             (None, 5)                 645       \n",
            "                                                                 \n",
            "=================================================================\n",
            "Total params: 11,206,533\n",
            "Trainable params: 11,206,533\n",
            "Non-trainable params: 0\n",
            "_________________________________________________________________\n"
          ]
        }
      ]
    },
    {
      "cell_type": "code",
      "source": [
        "history = model.fit(train_set, validation_data=val_set, epochs=10)"
      ],
      "metadata": {
        "colab": {
          "base_uri": "https://localhost:8080/"
        },
        "id": "XMfpJA_xkRJM",
        "outputId": "6e1b42f9-a295-4784-d5c6-d32a04342ca8"
      },
      "execution_count": null,
      "outputs": [
        {
          "output_type": "stream",
          "name": "stdout",
          "text": [
            "Epoch 1/10\n",
            "55/55 [==============================] - 16s 210ms/step - loss: 1.6809 - accuracy: 0.2086 - val_loss: 1.6085 - val_accuracy: 0.2000\n",
            "Epoch 2/10\n",
            "55/55 [==============================] - 8s 151ms/step - loss: 1.6112 - accuracy: 0.2040 - val_loss: 1.6095 - val_accuracy: 0.2000\n",
            "Epoch 3/10\n",
            "55/55 [==============================] - 9s 158ms/step - loss: 1.6096 - accuracy: 0.2034 - val_loss: 1.6086 - val_accuracy: 0.2347\n",
            "Epoch 4/10\n",
            "55/55 [==============================] - 9s 161ms/step - loss: 1.6132 - accuracy: 0.2343 - val_loss: 1.6056 - val_accuracy: 0.2347\n",
            "Epoch 5/10\n",
            "55/55 [==============================] - 9s 169ms/step - loss: 1.5904 - accuracy: 0.2549 - val_loss: 1.5678 - val_accuracy: 0.3200\n",
            "Epoch 6/10\n",
            "55/55 [==============================] - 8s 145ms/step - loss: 1.4517 - accuracy: 0.3669 - val_loss: 1.3995 - val_accuracy: 0.4133\n",
            "Epoch 7/10\n",
            "55/55 [==============================] - 9s 164ms/step - loss: 1.2334 - accuracy: 0.5183 - val_loss: 1.2144 - val_accuracy: 0.5200\n",
            "Epoch 8/10\n",
            "55/55 [==============================] - 9s 157ms/step - loss: 0.9183 - accuracy: 0.6560 - val_loss: 1.0515 - val_accuracy: 0.6000\n",
            "Epoch 9/10\n",
            "55/55 [==============================] - 8s 146ms/step - loss: 0.6196 - accuracy: 0.7783 - val_loss: 1.0202 - val_accuracy: 0.6640\n",
            "Epoch 10/10\n",
            "55/55 [==============================] - 9s 165ms/step - loss: 0.4689 - accuracy: 0.8434 - val_loss: 1.0111 - val_accuracy: 0.7040\n"
          ]
        }
      ]
    },
    {
      "cell_type": "code",
      "source": [
        "results= model.evaluate(test_set)"
      ],
      "metadata": {
        "colab": {
          "base_uri": "https://localhost:8080/"
        },
        "id": "9CGsIHtPlfAL",
        "outputId": "b5784372-401e-4a4f-8cd7-30bae3a2162e"
      },
      "execution_count": null,
      "outputs": [
        {
          "output_type": "stream",
          "name": "stdout",
          "text": [
            "12/12 [==============================] - 1s 119ms/step - loss: 1.0660 - accuracy: 0.6933\n"
          ]
        }
      ]
    },
    {
      "cell_type": "code",
      "source": [
        "print(model.metrics_names)\n",
        "print(results)"
      ],
      "metadata": {
        "colab": {
          "base_uri": "https://localhost:8080/"
        },
        "id": "9JQr0u10lgOf",
        "outputId": "ce80f433-7ae1-4989-b31d-99e6695a0d90"
      },
      "execution_count": null,
      "outputs": [
        {
          "output_type": "stream",
          "name": "stdout",
          "text": [
            "['loss', 'accuracy']\n",
            "[1.0659724473953247, 0.6933333277702332]\n"
          ]
        }
      ]
    },
    {
      "cell_type": "code",
      "source": [
        "y_pred = model.predict(test_set)"
      ],
      "metadata": {
        "colab": {
          "base_uri": "https://localhost:8080/"
        },
        "id": "IVJifpRkHGXw",
        "outputId": "501f671a-0617-486e-a1c2-16ef77f8d682"
      },
      "execution_count": null,
      "outputs": [
        {
          "output_type": "stream",
          "name": "stdout",
          "text": [
            "12/12 [==============================] - 1s 110ms/step\n"
          ]
        }
      ]
    },
    {
      "cell_type": "code",
      "source": [
        "y_pred_classes = np.argmax(y_pred, axis=1)\n",
        "y_true_classes = test_set.classes\n",
        "class_labels = list(test_set.class_indices.keys())\n",
        "cm = confusion_matrix(y_true_classes, y_pred_classes)\n",
        "print(cm)"
      ],
      "metadata": {
        "colab": {
          "base_uri": "https://localhost:8080/"
        },
        "id": "dTavXi58liij",
        "outputId": "2df80452-258b-4646-cdd8-85cc96fa4b4c"
      },
      "execution_count": null,
      "outputs": [
        {
          "output_type": "stream",
          "name": "stdout",
          "text": [
            "[[46  6  3  4 16]\n",
            " [11 39  9  7  9]\n",
            " [10  1 56  5  3]\n",
            " [ 1  1  5 67  1]\n",
            " [ 9  4  4  6 52]]\n"
          ]
        }
      ]
    },
    {
      "cell_type": "code",
      "source": [
        "print('Classification Report')\n",
        "report=classification_report(y_true_classes, y_pred_classes, target_names=class_labels)\n",
        "print(report)"
      ],
      "metadata": {
        "colab": {
          "base_uri": "https://localhost:8080/"
        },
        "id": "rpkqv5I7lsXB",
        "outputId": "62bd6fcd-b2ba-4491-b5b8-b6a454aea61d"
      },
      "execution_count": null,
      "outputs": [
        {
          "output_type": "stream",
          "name": "stdout",
          "text": [
            "Classification Report\n",
            "              precision    recall  f1-score   support\n",
            "\n",
            "       hand0       0.60      0.61      0.61        75\n",
            "       hand1       0.76      0.52      0.62        75\n",
            "      hand13       0.73      0.75      0.74        75\n",
            "       hand5       0.75      0.89      0.82        75\n",
            "       hand8       0.64      0.69      0.67        75\n",
            "\n",
            "    accuracy                           0.69       375\n",
            "   macro avg       0.70      0.69      0.69       375\n",
            "weighted avg       0.70      0.69      0.69       375\n",
            "\n"
          ]
        }
      ]
    },
    {
      "cell_type": "code",
      "source": [
        "plt.plot(history.history['loss'], label='train loss')\n",
        "plt.plot(history.history['val_loss'], label='val loss')\n",
        "plt.title(\"Customized CNN Loss Evolution\")\n",
        "plt.legend()\n",
        "plt.show()"
      ],
      "metadata": {
        "colab": {
          "base_uri": "https://localhost:8080/",
          "height": 452
        },
        "id": "GPTGi0Snmgwb",
        "outputId": "116abb42-b064-41d2-a6a6-933c8464f0a5"
      },
      "execution_count": null,
      "outputs": [
        {
          "output_type": "display_data",
          "data": {
            "text/plain": [
              "<Figure size 640x480 with 1 Axes>"
            ],
            "image/png": "[encoded data removed]"
          },
          "metadata": {}
        }
      ]
    },
    {
      "cell_type": "code",
      "source": [
        "plt.plot(history.history['accuracy'], label='train acc')\n",
        "plt.plot(history.history['val_accuracy'], label='val acc')\n",
        "plt.title(\"Customized CNN Accuracy Evolution\")\n",
        "plt.legend()\n",
        "plt.show()"
      ],
      "metadata": {
        "colab": {
          "base_uri": "https://localhost:8080/",
          "height": 452
        },
        "id": "9B8ycAovmn4L",
        "outputId": "3f678a01-d8d4-4cda-92ca-3290c0dace09"
      },
      "execution_count": null,
      "outputs": [
        {
          "output_type": "display_data",
          "data": {
            "text/plain": [
              "<Figure size 640x480 with 1 Axes>"
            ],
            "image/png": "[encoded data removed]"
          },
          "metadata": {}
        }
      ]
    }
  ]
}